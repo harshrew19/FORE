{
  "nbformat": 4,
  "nbformat_minor": 0,
  "metadata": {
    "colab": {
      "provenance": [],
      "include_colab_link": true
    },
    "kernelspec": {
      "name": "python3",
      "display_name": "Python 3"
    },
    "language_info": {
      "name": "python"
    }
  },
  "cells": [
    {
      "cell_type": "markdown",
      "metadata": {
        "id": "view-in-github",
        "colab_type": "text"
      },
      "source": [
        "<a href=\"https://colab.research.google.com/github/harshrew19/FORE/blob/main/simpleNN_churn_modeling_data_updated%2018.7.23.ipynb\" target=\"_parent\"><img src=\"https://colab.research.google.com/assets/colab-badge.svg\" alt=\"Open In Colab\"/></a>"
      ]
    },
    {
      "cell_type": "code",
      "source": [
        "# Last amended: 12th Nov, 2022\n",
        "# **********************************************************\n",
        "# BETTER SEE THE OTHER FILE: simpleNN churn_prediction.ipynb\n",
        "#***********************************************************\n",
        "# Bank churn modeling dataset\n",
        "# Experiments with NN\n",
        "# https://www.kaggle.com/code/kmalit/bank-customer-churn-prediction/data"
      ],
      "metadata": {
        "id": "VDuKXUJ_L8S2"
      },
      "execution_count": 1,
      "outputs": []
    },
    {
      "cell_type": "code",
      "execution_count": 2,
      "metadata": {
        "id": "t4NDs_JPESg_"
      },
      "outputs": [],
      "source": [
        "# 1.0\n",
        "import pandas as pd\n",
        "from sklearn.preprocessing import StandardScaler, MinMaxScaler\n",
        "from sklearn.preprocessing import LabelEncoder, OneHotEncoder\n",
        "from sklearn.model_selection import train_test_split\n",
        "\n",
        "# 1.1\n",
        "import tensorflow as tf\n",
        "\n",
        "# 1.2 Helper libraries\n",
        "import numpy as np\n",
        "import matplotlib.pyplot as plt\n"
      ]
    },
    {
      "cell_type": "code",
      "source": [
        "from IPython.core.interactiveshell import InteractiveShell\n",
        "InteractiveShell.ast_node_interactivity = \"all\"\n"
      ],
      "metadata": {
        "id": "s1Efxo5Qp62F"
      },
      "execution_count": 3,
      "outputs": []
    },
    {
      "cell_type": "code",
      "source": [
        "# 2.0 Mount google drive\n",
        "from google.colab import drive\n",
        "drive.mount('/gdrive')"
      ],
      "metadata": {
        "id": "11UKqlGTu9ka",
        "outputId": "b8e8917d-893e-404b-ff4d-1825e1305e70",
        "colab": {
          "base_uri": "https://localhost:8080/"
        }
      },
      "execution_count": 4,
      "outputs": [
        {
          "output_type": "stream",
          "name": "stdout",
          "text": [
            "Mounted at /gdrive\n"
          ]
        }
      ]
    },
    {
      "cell_type": "code",
      "source": [
        "# 2.1 Read Bank Customers churn data\n",
        "\n",
        "path = \"/gdrive/MyDrive/BDA DLNLP/\"\n"
      ],
      "metadata": {
        "id": "e_KwcYMREcUy"
      },
      "execution_count": 5,
      "outputs": []
    },
    {
      "cell_type": "code",
      "source": [
        "# 2.2\n",
        "data = pd.read_csv(path + \"churn_modelling.csv\")"
      ],
      "metadata": {
        "id": "lnhu8ZR5wznf"
      },
      "execution_count": 6,
      "outputs": []
    },
    {
      "cell_type": "code",
      "source": [
        "# 2.2.1\n",
        "data.head()"
      ],
      "metadata": {
        "id": "kV5KxQnLvimq",
        "outputId": "7e28b18f-4b59-4aaa-e435-157bbb4229b0",
        "colab": {
          "base_uri": "https://localhost:8080/",
          "height": 206
        }
      },
      "execution_count": 7,
      "outputs": [
        {
          "output_type": "execute_result",
          "data": {
            "text/plain": [
              "   RowNumber  CustomerId   Surname  CreditScore Geography  Gender  Age  \\\n",
              "0          1    15634602  Hargrave          619    France  Female   42   \n",
              "1          2    15647311      Hill          608     Spain  Female   41   \n",
              "2          3    15619304      Onio          502    France  Female   42   \n",
              "3          4    15701354      Boni          699    France  Female   39   \n",
              "4          5    15737888  Mitchell          850     Spain  Female   43   \n",
              "\n",
              "   Tenure    Balance  NumOfProducts  HasCrCard  IsActiveMember  \\\n",
              "0       2       0.00              1          1               1   \n",
              "1       1   83807.86              1          0               1   \n",
              "2       8  159660.80              3          1               0   \n",
              "3       1       0.00              2          0               0   \n",
              "4       2  125510.82              1          1               1   \n",
              "\n",
              "   EstimatedSalary  Exited  \n",
              "0        101348.88       1  \n",
              "1        112542.58       0  \n",
              "2        113931.57       1  \n",
              "3         93826.63       0  \n",
              "4         79084.10       0  "
            ],
            "text/html": [
              "\n",
              "\n",
              "  <div id=\"df-95f2f7f5-852c-40f4-9b20-cc1b26f3c82b\">\n",
              "    <div class=\"colab-df-container\">\n",
              "      <div>\n",
              "<style scoped>\n",
              "    .dataframe tbody tr th:only-of-type {\n",
              "        vertical-align: middle;\n",
              "    }\n",
              "\n",
              "    .dataframe tbody tr th {\n",
              "        vertical-align: top;\n",
              "    }\n",
              "\n",
              "    .dataframe thead th {\n",
              "        text-align: right;\n",
              "    }\n",
              "</style>\n",
              "<table border=\"1\" class=\"dataframe\">\n",
              "  <thead>\n",
              "    <tr style=\"text-align: right;\">\n",
              "      <th></th>\n",
              "      <th>RowNumber</th>\n",
              "      <th>CustomerId</th>\n",
              "      <th>Surname</th>\n",
              "      <th>CreditScore</th>\n",
              "      <th>Geography</th>\n",
              "      <th>Gender</th>\n",
              "      <th>Age</th>\n",
              "      <th>Tenure</th>\n",
              "      <th>Balance</th>\n",
              "      <th>NumOfProducts</th>\n",
              "      <th>HasCrCard</th>\n",
              "      <th>IsActiveMember</th>\n",
              "      <th>EstimatedSalary</th>\n",
              "      <th>Exited</th>\n",
              "    </tr>\n",
              "  </thead>\n",
              "  <tbody>\n",
              "    <tr>\n",
              "      <th>0</th>\n",
              "      <td>1</td>\n",
              "      <td>15634602</td>\n",
              "      <td>Hargrave</td>\n",
              "      <td>619</td>\n",
              "      <td>France</td>\n",
              "      <td>Female</td>\n",
              "      <td>42</td>\n",
              "      <td>2</td>\n",
              "      <td>0.00</td>\n",
              "      <td>1</td>\n",
              "      <td>1</td>\n",
              "      <td>1</td>\n",
              "      <td>101348.88</td>\n",
              "      <td>1</td>\n",
              "    </tr>\n",
              "    <tr>\n",
              "      <th>1</th>\n",
              "      <td>2</td>\n",
              "      <td>15647311</td>\n",
              "      <td>Hill</td>\n",
              "      <td>608</td>\n",
              "      <td>Spain</td>\n",
              "      <td>Female</td>\n",
              "      <td>41</td>\n",
              "      <td>1</td>\n",
              "      <td>83807.86</td>\n",
              "      <td>1</td>\n",
              "      <td>0</td>\n",
              "      <td>1</td>\n",
              "      <td>112542.58</td>\n",
              "      <td>0</td>\n",
              "    </tr>\n",
              "    <tr>\n",
              "      <th>2</th>\n",
              "      <td>3</td>\n",
              "      <td>15619304</td>\n",
              "      <td>Onio</td>\n",
              "      <td>502</td>\n",
              "      <td>France</td>\n",
              "      <td>Female</td>\n",
              "      <td>42</td>\n",
              "      <td>8</td>\n",
              "      <td>159660.80</td>\n",
              "      <td>3</td>\n",
              "      <td>1</td>\n",
              "      <td>0</td>\n",
              "      <td>113931.57</td>\n",
              "      <td>1</td>\n",
              "    </tr>\n",
              "    <tr>\n",
              "      <th>3</th>\n",
              "      <td>4</td>\n",
              "      <td>15701354</td>\n",
              "      <td>Boni</td>\n",
              "      <td>699</td>\n",
              "      <td>France</td>\n",
              "      <td>Female</td>\n",
              "      <td>39</td>\n",
              "      <td>1</td>\n",
              "      <td>0.00</td>\n",
              "      <td>2</td>\n",
              "      <td>0</td>\n",
              "      <td>0</td>\n",
              "      <td>93826.63</td>\n",
              "      <td>0</td>\n",
              "    </tr>\n",
              "    <tr>\n",
              "      <th>4</th>\n",
              "      <td>5</td>\n",
              "      <td>15737888</td>\n",
              "      <td>Mitchell</td>\n",
              "      <td>850</td>\n",
              "      <td>Spain</td>\n",
              "      <td>Female</td>\n",
              "      <td>43</td>\n",
              "      <td>2</td>\n",
              "      <td>125510.82</td>\n",
              "      <td>1</td>\n",
              "      <td>1</td>\n",
              "      <td>1</td>\n",
              "      <td>79084.10</td>\n",
              "      <td>0</td>\n",
              "    </tr>\n",
              "  </tbody>\n",
              "</table>\n",
              "</div>\n",
              "      <button class=\"colab-df-convert\" onclick=\"convertToInteractive('df-95f2f7f5-852c-40f4-9b20-cc1b26f3c82b')\"\n",
              "              title=\"Convert this dataframe to an interactive table.\"\n",
              "              style=\"display:none;\">\n",
              "\n",
              "  <svg xmlns=\"http://www.w3.org/2000/svg\" height=\"24px\"viewBox=\"0 0 24 24\"\n",
              "       width=\"24px\">\n",
              "    <path d=\"M0 0h24v24H0V0z\" fill=\"none\"/>\n",
              "    <path d=\"M18.56 5.44l.94 2.06.94-2.06 2.06-.94-2.06-.94-.94-2.06-.94 2.06-2.06.94zm-11 1L8.5 8.5l.94-2.06 2.06-.94-2.06-.94L8.5 2.5l-.94 2.06-2.06.94zm10 10l.94 2.06.94-2.06 2.06-.94-2.06-.94-.94-2.06-.94 2.06-2.06.94z\"/><path d=\"M17.41 7.96l-1.37-1.37c-.4-.4-.92-.59-1.43-.59-.52 0-1.04.2-1.43.59L10.3 9.45l-7.72 7.72c-.78.78-.78 2.05 0 2.83L4 21.41c.39.39.9.59 1.41.59.51 0 1.02-.2 1.41-.59l7.78-7.78 2.81-2.81c.8-.78.8-2.07 0-2.86zM5.41 20L4 18.59l7.72-7.72 1.47 1.35L5.41 20z\"/>\n",
              "  </svg>\n",
              "      </button>\n",
              "\n",
              "\n",
              "\n",
              "    <div id=\"df-4b79af9d-c355-42cb-8fff-955fe6e53379\">\n",
              "      <button class=\"colab-df-quickchart\" onclick=\"quickchart('df-4b79af9d-c355-42cb-8fff-955fe6e53379')\"\n",
              "              title=\"Suggest charts.\"\n",
              "              style=\"display:none;\">\n",
              "\n",
              "<svg xmlns=\"http://www.w3.org/2000/svg\" height=\"24px\"viewBox=\"0 0 24 24\"\n",
              "     width=\"24px\">\n",
              "    <g>\n",
              "        <path d=\"M19 3H5c-1.1 0-2 .9-2 2v14c0 1.1.9 2 2 2h14c1.1 0 2-.9 2-2V5c0-1.1-.9-2-2-2zM9 17H7v-7h2v7zm4 0h-2V7h2v10zm4 0h-2v-4h2v4z\"/>\n",
              "    </g>\n",
              "</svg>\n",
              "      </button>\n",
              "    </div>\n",
              "\n",
              "<style>\n",
              "  .colab-df-quickchart {\n",
              "    background-color: #E8F0FE;\n",
              "    border: none;\n",
              "    border-radius: 50%;\n",
              "    cursor: pointer;\n",
              "    display: none;\n",
              "    fill: #1967D2;\n",
              "    height: 32px;\n",
              "    padding: 0 0 0 0;\n",
              "    width: 32px;\n",
              "  }\n",
              "\n",
              "  .colab-df-quickchart:hover {\n",
              "    background-color: #E2EBFA;\n",
              "    box-shadow: 0px 1px 2px rgba(60, 64, 67, 0.3), 0px 1px 3px 1px rgba(60, 64, 67, 0.15);\n",
              "    fill: #174EA6;\n",
              "  }\n",
              "\n",
              "  [theme=dark] .colab-df-quickchart {\n",
              "    background-color: #3B4455;\n",
              "    fill: #D2E3FC;\n",
              "  }\n",
              "\n",
              "  [theme=dark] .colab-df-quickchart:hover {\n",
              "    background-color: #434B5C;\n",
              "    box-shadow: 0px 1px 3px 1px rgba(0, 0, 0, 0.15);\n",
              "    filter: drop-shadow(0px 1px 2px rgba(0, 0, 0, 0.3));\n",
              "    fill: #FFFFFF;\n",
              "  }\n",
              "</style>\n",
              "\n",
              "    <script>\n",
              "      async function quickchart(key) {\n",
              "        const containerElement = document.querySelector('#' + key);\n",
              "        const charts = await google.colab.kernel.invokeFunction(\n",
              "            'suggestCharts', [key], {});\n",
              "      }\n",
              "    </script>\n",
              "\n",
              "      <script>\n",
              "\n",
              "function displayQuickchartButton(domScope) {\n",
              "  let quickchartButtonEl =\n",
              "    domScope.querySelector('#df-4b79af9d-c355-42cb-8fff-955fe6e53379 button.colab-df-quickchart');\n",
              "  quickchartButtonEl.style.display =\n",
              "    google.colab.kernel.accessAllowed ? 'block' : 'none';\n",
              "}\n",
              "\n",
              "        displayQuickchartButton(document);\n",
              "      </script>\n",
              "      <style>\n",
              "    .colab-df-container {\n",
              "      display:flex;\n",
              "      flex-wrap:wrap;\n",
              "      gap: 12px;\n",
              "    }\n",
              "\n",
              "    .colab-df-convert {\n",
              "      background-color: #E8F0FE;\n",
              "      border: none;\n",
              "      border-radius: 50%;\n",
              "      cursor: pointer;\n",
              "      display: none;\n",
              "      fill: #1967D2;\n",
              "      height: 32px;\n",
              "      padding: 0 0 0 0;\n",
              "      width: 32px;\n",
              "    }\n",
              "\n",
              "    .colab-df-convert:hover {\n",
              "      background-color: #E2EBFA;\n",
              "      box-shadow: 0px 1px 2px rgba(60, 64, 67, 0.3), 0px 1px 3px 1px rgba(60, 64, 67, 0.15);\n",
              "      fill: #174EA6;\n",
              "    }\n",
              "\n",
              "    [theme=dark] .colab-df-convert {\n",
              "      background-color: #3B4455;\n",
              "      fill: #D2E3FC;\n",
              "    }\n",
              "\n",
              "    [theme=dark] .colab-df-convert:hover {\n",
              "      background-color: #434B5C;\n",
              "      box-shadow: 0px 1px 3px 1px rgba(0, 0, 0, 0.15);\n",
              "      filter: drop-shadow(0px 1px 2px rgba(0, 0, 0, 0.3));\n",
              "      fill: #FFFFFF;\n",
              "    }\n",
              "  </style>\n",
              "\n",
              "      <script>\n",
              "        const buttonEl =\n",
              "          document.querySelector('#df-95f2f7f5-852c-40f4-9b20-cc1b26f3c82b button.colab-df-convert');\n",
              "        buttonEl.style.display =\n",
              "          google.colab.kernel.accessAllowed ? 'block' : 'none';\n",
              "\n",
              "        async function convertToInteractive(key) {\n",
              "          const element = document.querySelector('#df-95f2f7f5-852c-40f4-9b20-cc1b26f3c82b');\n",
              "          const dataTable =\n",
              "            await google.colab.kernel.invokeFunction('convertToInteractive',\n",
              "                                                     [key], {});\n",
              "          if (!dataTable) return;\n",
              "\n",
              "          const docLinkHtml = 'Like what you see? Visit the ' +\n",
              "            '<a target=\"_blank\" href=https://colab.research.google.com/notebooks/data_table.ipynb>data table notebook</a>'\n",
              "            + ' to learn more about interactive tables.';\n",
              "          element.innerHTML = '';\n",
              "          dataTable['output_type'] = 'display_data';\n",
              "          await google.colab.output.renderOutput(dataTable, element);\n",
              "          const docLink = document.createElement('div');\n",
              "          docLink.innerHTML = docLinkHtml;\n",
              "          element.appendChild(docLink);\n",
              "        }\n",
              "      </script>\n",
              "    </div>\n",
              "  </div>\n"
            ]
          },
          "metadata": {},
          "execution_count": 7
        }
      ]
    },
    {
      "cell_type": "code",
      "source": [
        "# 2.2.2\n",
        "data.shape   # (10000, 14)"
      ],
      "metadata": {
        "id": "xvzzZC1_vlP9",
        "outputId": "ee79cea6-7d55-4f6b-98ad-39f2b22761bc",
        "colab": {
          "base_uri": "https://localhost:8080/"
        }
      },
      "execution_count": 8,
      "outputs": [
        {
          "output_type": "execute_result",
          "data": {
            "text/plain": [
              "(10000, 14)"
            ]
          },
          "metadata": {},
          "execution_count": 8
        }
      ]
    },
    {
      "cell_type": "code",
      "source": [
        "# 2.3 Pop out target\n",
        "y = data.pop('Exited')"
      ],
      "metadata": {
        "id": "N3KCovgwEtmt"
      },
      "execution_count": 9,
      "outputs": []
    },
    {
      "cell_type": "code",
      "source": [
        "# 2.3.1\n",
        "data.shape   # (10000,13)"
      ],
      "metadata": {
        "colab": {
          "base_uri": "https://localhost:8080/"
        },
        "id": "GmDd06fNJjsM",
        "outputId": "20cdc558-b9aa-4cce-d739-2fe1a3aeb134"
      },
      "execution_count": 10,
      "outputs": [
        {
          "output_type": "execute_result",
          "data": {
            "text/plain": [
              "(10000, 13)"
            ]
          },
          "metadata": {},
          "execution_count": 10
        }
      ]
    },
    {
      "cell_type": "code",
      "source": [
        "# 3.0 Check NULL\n",
        "data.isnull().sum()"
      ],
      "metadata": {
        "id": "fG-9A9AN8MZp",
        "outputId": "71e76fc4-d139-4fee-bcf8-b6d19431e742",
        "colab": {
          "base_uri": "https://localhost:8080/"
        }
      },
      "execution_count": 11,
      "outputs": [
        {
          "output_type": "execute_result",
          "data": {
            "text/plain": [
              "RowNumber          0\n",
              "CustomerId         0\n",
              "Surname            0\n",
              "CreditScore        0\n",
              "Geography          0\n",
              "Gender             0\n",
              "Age                0\n",
              "Tenure             0\n",
              "Balance            0\n",
              "NumOfProducts      0\n",
              "HasCrCard          0\n",
              "IsActiveMember     0\n",
              "EstimatedSalary    0\n",
              "dtype: int64"
            ]
          },
          "metadata": {},
          "execution_count": 11
        }
      ]
    },
    {
      "cell_type": "code",
      "source": [
        "data['Gender'].value_counts()"
      ],
      "metadata": {
        "id": "Ln_wSqcvf-bT",
        "outputId": "71f80638-65f5-4262-8312-a7965e88433a",
        "colab": {
          "base_uri": "https://localhost:8080/"
        }
      },
      "execution_count": 12,
      "outputs": [
        {
          "output_type": "execute_result",
          "data": {
            "text/plain": [
              "Male      5457\n",
              "Female    4543\n",
              "Name: Gender, dtype: int64"
            ]
          },
          "metadata": {},
          "execution_count": 12
        }
      ]
    },
    {
      "cell_type": "code",
      "source": [
        "data['Geography'].unique()"
      ],
      "metadata": {
        "id": "Gk2qUAsagT2O",
        "outputId": "ad40fe93-c212-43c3-a2da-f73007cc2551",
        "colab": {
          "base_uri": "https://localhost:8080/"
        }
      },
      "execution_count": 13,
      "outputs": [
        {
          "output_type": "execute_result",
          "data": {
            "text/plain": [
              "array(['France', 'Spain', 'Germany'], dtype=object)"
            ]
          },
          "metadata": {},
          "execution_count": 13
        }
      ]
    },
    {
      "cell_type": "code",
      "source": [
        "data['Geography'].nunique()"
      ],
      "metadata": {
        "id": "IOYwSyHVgaxK",
        "outputId": "9c69610a-b093-4029-e7cd-bb5e4af1ddee",
        "colab": {
          "base_uri": "https://localhost:8080/"
        }
      },
      "execution_count": 14,
      "outputs": [
        {
          "output_type": "execute_result",
          "data": {
            "text/plain": [
              "3"
            ]
          },
          "metadata": {},
          "execution_count": 14
        }
      ]
    },
    {
      "cell_type": "code",
      "source": [
        "data['Gender'] = data['Gender'].map({'Female' : 1, 'Male' : 0})"
      ],
      "metadata": {
        "id": "3Q4VjYaRn7qA"
      },
      "execution_count": 15,
      "outputs": []
    },
    {
      "cell_type": "code",
      "source": [
        "data['Geography'].unique()"
      ],
      "metadata": {
        "colab": {
          "base_uri": "https://localhost:8080/"
        },
        "id": "GV49Z3ZuoJvx",
        "outputId": "1b30f604-11e0-44c8-e94c-eef252f969f2"
      },
      "execution_count": 16,
      "outputs": [
        {
          "output_type": "execute_result",
          "data": {
            "text/plain": [
              "array(['France', 'Spain', 'Germany'], dtype=object)"
            ]
          },
          "metadata": {},
          "execution_count": 16
        }
      ]
    },
    {
      "cell_type": "code",
      "source": [
        "data['Geography'] = data['Geography'].map({'France' : 0, 'Spain' : 1, 'Germany' : 2})"
      ],
      "metadata": {
        "id": "LmH2_2IWoO9N"
      },
      "execution_count": 17,
      "outputs": []
    },
    {
      "cell_type": "code",
      "source": [
        "# 3.2 Categorical features:\n",
        "data[:2]"
      ],
      "metadata": {
        "id": "WyDhQZsHJmMk",
        "outputId": "fbcd2fc4-37ee-4c90-f02e-9cd09cb0a919",
        "colab": {
          "base_uri": "https://localhost:8080/",
          "height": 112
        }
      },
      "execution_count": 18,
      "outputs": [
        {
          "output_type": "execute_result",
          "data": {
            "text/plain": [
              "   RowNumber  CustomerId   Surname  CreditScore  Geography  Gender  Age  \\\n",
              "0          1    15634602  Hargrave          619          0       1   42   \n",
              "1          2    15647311      Hill          608          1       1   41   \n",
              "\n",
              "   Tenure   Balance  NumOfProducts  HasCrCard  IsActiveMember  EstimatedSalary  \n",
              "0       2      0.00              1          1               1        101348.88  \n",
              "1       1  83807.86              1          0               1        112542.58  "
            ],
            "text/html": [
              "\n",
              "\n",
              "  <div id=\"df-507b2b6c-2bb3-4e48-a25b-bd50af538b9d\">\n",
              "    <div class=\"colab-df-container\">\n",
              "      <div>\n",
              "<style scoped>\n",
              "    .dataframe tbody tr th:only-of-type {\n",
              "        vertical-align: middle;\n",
              "    }\n",
              "\n",
              "    .dataframe tbody tr th {\n",
              "        vertical-align: top;\n",
              "    }\n",
              "\n",
              "    .dataframe thead th {\n",
              "        text-align: right;\n",
              "    }\n",
              "</style>\n",
              "<table border=\"1\" class=\"dataframe\">\n",
              "  <thead>\n",
              "    <tr style=\"text-align: right;\">\n",
              "      <th></th>\n",
              "      <th>RowNumber</th>\n",
              "      <th>CustomerId</th>\n",
              "      <th>Surname</th>\n",
              "      <th>CreditScore</th>\n",
              "      <th>Geography</th>\n",
              "      <th>Gender</th>\n",
              "      <th>Age</th>\n",
              "      <th>Tenure</th>\n",
              "      <th>Balance</th>\n",
              "      <th>NumOfProducts</th>\n",
              "      <th>HasCrCard</th>\n",
              "      <th>IsActiveMember</th>\n",
              "      <th>EstimatedSalary</th>\n",
              "    </tr>\n",
              "  </thead>\n",
              "  <tbody>\n",
              "    <tr>\n",
              "      <th>0</th>\n",
              "      <td>1</td>\n",
              "      <td>15634602</td>\n",
              "      <td>Hargrave</td>\n",
              "      <td>619</td>\n",
              "      <td>0</td>\n",
              "      <td>1</td>\n",
              "      <td>42</td>\n",
              "      <td>2</td>\n",
              "      <td>0.00</td>\n",
              "      <td>1</td>\n",
              "      <td>1</td>\n",
              "      <td>1</td>\n",
              "      <td>101348.88</td>\n",
              "    </tr>\n",
              "    <tr>\n",
              "      <th>1</th>\n",
              "      <td>2</td>\n",
              "      <td>15647311</td>\n",
              "      <td>Hill</td>\n",
              "      <td>608</td>\n",
              "      <td>1</td>\n",
              "      <td>1</td>\n",
              "      <td>41</td>\n",
              "      <td>1</td>\n",
              "      <td>83807.86</td>\n",
              "      <td>1</td>\n",
              "      <td>0</td>\n",
              "      <td>1</td>\n",
              "      <td>112542.58</td>\n",
              "    </tr>\n",
              "  </tbody>\n",
              "</table>\n",
              "</div>\n",
              "      <button class=\"colab-df-convert\" onclick=\"convertToInteractive('df-507b2b6c-2bb3-4e48-a25b-bd50af538b9d')\"\n",
              "              title=\"Convert this dataframe to an interactive table.\"\n",
              "              style=\"display:none;\">\n",
              "\n",
              "  <svg xmlns=\"http://www.w3.org/2000/svg\" height=\"24px\"viewBox=\"0 0 24 24\"\n",
              "       width=\"24px\">\n",
              "    <path d=\"M0 0h24v24H0V0z\" fill=\"none\"/>\n",
              "    <path d=\"M18.56 5.44l.94 2.06.94-2.06 2.06-.94-2.06-.94-.94-2.06-.94 2.06-2.06.94zm-11 1L8.5 8.5l.94-2.06 2.06-.94-2.06-.94L8.5 2.5l-.94 2.06-2.06.94zm10 10l.94 2.06.94-2.06 2.06-.94-2.06-.94-.94-2.06-.94 2.06-2.06.94z\"/><path d=\"M17.41 7.96l-1.37-1.37c-.4-.4-.92-.59-1.43-.59-.52 0-1.04.2-1.43.59L10.3 9.45l-7.72 7.72c-.78.78-.78 2.05 0 2.83L4 21.41c.39.39.9.59 1.41.59.51 0 1.02-.2 1.41-.59l7.78-7.78 2.81-2.81c.8-.78.8-2.07 0-2.86zM5.41 20L4 18.59l7.72-7.72 1.47 1.35L5.41 20z\"/>\n",
              "  </svg>\n",
              "      </button>\n",
              "\n",
              "\n",
              "\n",
              "    <div id=\"df-c8559bb2-df5d-415c-bc59-ebb4a9c50192\">\n",
              "      <button class=\"colab-df-quickchart\" onclick=\"quickchart('df-c8559bb2-df5d-415c-bc59-ebb4a9c50192')\"\n",
              "              title=\"Suggest charts.\"\n",
              "              style=\"display:none;\">\n",
              "\n",
              "<svg xmlns=\"http://www.w3.org/2000/svg\" height=\"24px\"viewBox=\"0 0 24 24\"\n",
              "     width=\"24px\">\n",
              "    <g>\n",
              "        <path d=\"M19 3H5c-1.1 0-2 .9-2 2v14c0 1.1.9 2 2 2h14c1.1 0 2-.9 2-2V5c0-1.1-.9-2-2-2zM9 17H7v-7h2v7zm4 0h-2V7h2v10zm4 0h-2v-4h2v4z\"/>\n",
              "    </g>\n",
              "</svg>\n",
              "      </button>\n",
              "    </div>\n",
              "\n",
              "<style>\n",
              "  .colab-df-quickchart {\n",
              "    background-color: #E8F0FE;\n",
              "    border: none;\n",
              "    border-radius: 50%;\n",
              "    cursor: pointer;\n",
              "    display: none;\n",
              "    fill: #1967D2;\n",
              "    height: 32px;\n",
              "    padding: 0 0 0 0;\n",
              "    width: 32px;\n",
              "  }\n",
              "\n",
              "  .colab-df-quickchart:hover {\n",
              "    background-color: #E2EBFA;\n",
              "    box-shadow: 0px 1px 2px rgba(60, 64, 67, 0.3), 0px 1px 3px 1px rgba(60, 64, 67, 0.15);\n",
              "    fill: #174EA6;\n",
              "  }\n",
              "\n",
              "  [theme=dark] .colab-df-quickchart {\n",
              "    background-color: #3B4455;\n",
              "    fill: #D2E3FC;\n",
              "  }\n",
              "\n",
              "  [theme=dark] .colab-df-quickchart:hover {\n",
              "    background-color: #434B5C;\n",
              "    box-shadow: 0px 1px 3px 1px rgba(0, 0, 0, 0.15);\n",
              "    filter: drop-shadow(0px 1px 2px rgba(0, 0, 0, 0.3));\n",
              "    fill: #FFFFFF;\n",
              "  }\n",
              "</style>\n",
              "\n",
              "    <script>\n",
              "      async function quickchart(key) {\n",
              "        const containerElement = document.querySelector('#' + key);\n",
              "        const charts = await google.colab.kernel.invokeFunction(\n",
              "            'suggestCharts', [key], {});\n",
              "      }\n",
              "    </script>\n",
              "\n",
              "      <script>\n",
              "\n",
              "function displayQuickchartButton(domScope) {\n",
              "  let quickchartButtonEl =\n",
              "    domScope.querySelector('#df-c8559bb2-df5d-415c-bc59-ebb4a9c50192 button.colab-df-quickchart');\n",
              "  quickchartButtonEl.style.display =\n",
              "    google.colab.kernel.accessAllowed ? 'block' : 'none';\n",
              "}\n",
              "\n",
              "        displayQuickchartButton(document);\n",
              "      </script>\n",
              "      <style>\n",
              "    .colab-df-container {\n",
              "      display:flex;\n",
              "      flex-wrap:wrap;\n",
              "      gap: 12px;\n",
              "    }\n",
              "\n",
              "    .colab-df-convert {\n",
              "      background-color: #E8F0FE;\n",
              "      border: none;\n",
              "      border-radius: 50%;\n",
              "      cursor: pointer;\n",
              "      display: none;\n",
              "      fill: #1967D2;\n",
              "      height: 32px;\n",
              "      padding: 0 0 0 0;\n",
              "      width: 32px;\n",
              "    }\n",
              "\n",
              "    .colab-df-convert:hover {\n",
              "      background-color: #E2EBFA;\n",
              "      box-shadow: 0px 1px 2px rgba(60, 64, 67, 0.3), 0px 1px 3px 1px rgba(60, 64, 67, 0.15);\n",
              "      fill: #174EA6;\n",
              "    }\n",
              "\n",
              "    [theme=dark] .colab-df-convert {\n",
              "      background-color: #3B4455;\n",
              "      fill: #D2E3FC;\n",
              "    }\n",
              "\n",
              "    [theme=dark] .colab-df-convert:hover {\n",
              "      background-color: #434B5C;\n",
              "      box-shadow: 0px 1px 3px 1px rgba(0, 0, 0, 0.15);\n",
              "      filter: drop-shadow(0px 1px 2px rgba(0, 0, 0, 0.3));\n",
              "      fill: #FFFFFF;\n",
              "    }\n",
              "  </style>\n",
              "\n",
              "      <script>\n",
              "        const buttonEl =\n",
              "          document.querySelector('#df-507b2b6c-2bb3-4e48-a25b-bd50af538b9d button.colab-df-convert');\n",
              "        buttonEl.style.display =\n",
              "          google.colab.kernel.accessAllowed ? 'block' : 'none';\n",
              "\n",
              "        async function convertToInteractive(key) {\n",
              "          const element = document.querySelector('#df-507b2b6c-2bb3-4e48-a25b-bd50af538b9d');\n",
              "          const dataTable =\n",
              "            await google.colab.kernel.invokeFunction('convertToInteractive',\n",
              "                                                     [key], {});\n",
              "          if (!dataTable) return;\n",
              "\n",
              "          const docLinkHtml = 'Like what you see? Visit the ' +\n",
              "            '<a target=\"_blank\" href=https://colab.research.google.com/notebooks/data_table.ipynb>data table notebook</a>'\n",
              "            + ' to learn more about interactive tables.';\n",
              "          element.innerHTML = '';\n",
              "          dataTable['output_type'] = 'display_data';\n",
              "          await google.colab.output.renderOutput(dataTable, element);\n",
              "          const docLink = document.createElement('div');\n",
              "          docLink.innerHTML = docLinkHtml;\n",
              "          element.appendChild(docLink);\n",
              "        }\n",
              "      </script>\n",
              "    </div>\n",
              "  </div>\n"
            ]
          },
          "metadata": {},
          "execution_count": 18
        }
      ]
    },
    {
      "cell_type": "code",
      "source": [
        "data['CustomerId'].duplicated().sum()"
      ],
      "metadata": {
        "colab": {
          "base_uri": "https://localhost:8080/"
        },
        "id": "TkNTvzYLojWw",
        "outputId": "6c66bcae-aeae-4705-de9f-dfaf9eb5072b"
      },
      "execution_count": 19,
      "outputs": [
        {
          "output_type": "execute_result",
          "data": {
            "text/plain": [
              "0"
            ]
          },
          "metadata": {},
          "execution_count": 19
        }
      ]
    },
    {
      "cell_type": "code",
      "source": [
        "data = data.drop(columns = ['RowNumber','CustomerId', 'Surname'])"
      ],
      "metadata": {
        "id": "kC0KCgzOo6YG"
      },
      "execution_count": 20,
      "outputs": []
    },
    {
      "cell_type": "code",
      "source": [
        "data['Tenure'].unique()"
      ],
      "metadata": {
        "colab": {
          "base_uri": "https://localhost:8080/"
        },
        "id": "SqgsstLwpPQ9",
        "outputId": "51bf0d1b-5f95-4916-d9fb-349d4d22be40"
      },
      "execution_count": 21,
      "outputs": [
        {
          "output_type": "execute_result",
          "data": {
            "text/plain": [
              "array([ 2,  1,  8,  7,  4,  6,  3, 10,  5,  9,  0])"
            ]
          },
          "metadata": {},
          "execution_count": 21
        }
      ]
    },
    {
      "cell_type": "code",
      "source": [
        "X_train,X_test, y_train,y_test = train_test_split(data, y, test_size = 0.25)"
      ],
      "metadata": {
        "id": "x6HG0SEppo72"
      },
      "execution_count": 22,
      "outputs": []
    },
    {
      "cell_type": "code",
      "source": [
        "X_train.shape\n",
        "X_test.shape"
      ],
      "metadata": {
        "colab": {
          "base_uri": "https://localhost:8080/"
        },
        "id": "xUm3VKFLpxnG",
        "outputId": "7ebaa27b-f824-4124-943e-ca3634693f35"
      },
      "execution_count": 23,
      "outputs": [
        {
          "output_type": "execute_result",
          "data": {
            "text/plain": [
              "(7500, 10)"
            ]
          },
          "metadata": {},
          "execution_count": 23
        },
        {
          "output_type": "execute_result",
          "data": {
            "text/plain": [
              "(2500, 10)"
            ]
          },
          "metadata": {},
          "execution_count": 23
        }
      ]
    },
    {
      "cell_type": "code",
      "source": [
        "mm = MinMaxScaler()\n",
        "mm.fit(X_train)"
      ],
      "metadata": {
        "colab": {
          "base_uri": "https://localhost:8080/",
          "height": 74
        },
        "id": "eTWGjVk8pYFO",
        "outputId": "c1e31d7c-d132-4433-f0cb-a400a6001532"
      },
      "execution_count": 24,
      "outputs": [
        {
          "output_type": "execute_result",
          "data": {
            "text/plain": [
              "MinMaxScaler()"
            ],
            "text/html": [
              "<style>#sk-container-id-1 {color: black;background-color: white;}#sk-container-id-1 pre{padding: 0;}#sk-container-id-1 div.sk-toggleable {background-color: white;}#sk-container-id-1 label.sk-toggleable__label {cursor: pointer;display: block;width: 100%;margin-bottom: 0;padding: 0.3em;box-sizing: border-box;text-align: center;}#sk-container-id-1 label.sk-toggleable__label-arrow:before {content: \"▸\";float: left;margin-right: 0.25em;color: #696969;}#sk-container-id-1 label.sk-toggleable__label-arrow:hover:before {color: black;}#sk-container-id-1 div.sk-estimator:hover label.sk-toggleable__label-arrow:before {color: black;}#sk-container-id-1 div.sk-toggleable__content {max-height: 0;max-width: 0;overflow: hidden;text-align: left;background-color: #f0f8ff;}#sk-container-id-1 div.sk-toggleable__content pre {margin: 0.2em;color: black;border-radius: 0.25em;background-color: #f0f8ff;}#sk-container-id-1 input.sk-toggleable__control:checked~div.sk-toggleable__content {max-height: 200px;max-width: 100%;overflow: auto;}#sk-container-id-1 input.sk-toggleable__control:checked~label.sk-toggleable__label-arrow:before {content: \"▾\";}#sk-container-id-1 div.sk-estimator input.sk-toggleable__control:checked~label.sk-toggleable__label {background-color: #d4ebff;}#sk-container-id-1 div.sk-label input.sk-toggleable__control:checked~label.sk-toggleable__label {background-color: #d4ebff;}#sk-container-id-1 input.sk-hidden--visually {border: 0;clip: rect(1px 1px 1px 1px);clip: rect(1px, 1px, 1px, 1px);height: 1px;margin: -1px;overflow: hidden;padding: 0;position: absolute;width: 1px;}#sk-container-id-1 div.sk-estimator {font-family: monospace;background-color: #f0f8ff;border: 1px dotted black;border-radius: 0.25em;box-sizing: border-box;margin-bottom: 0.5em;}#sk-container-id-1 div.sk-estimator:hover {background-color: #d4ebff;}#sk-container-id-1 div.sk-parallel-item::after {content: \"\";width: 100%;border-bottom: 1px solid gray;flex-grow: 1;}#sk-container-id-1 div.sk-label:hover label.sk-toggleable__label {background-color: #d4ebff;}#sk-container-id-1 div.sk-serial::before {content: \"\";position: absolute;border-left: 1px solid gray;box-sizing: border-box;top: 0;bottom: 0;left: 50%;z-index: 0;}#sk-container-id-1 div.sk-serial {display: flex;flex-direction: column;align-items: center;background-color: white;padding-right: 0.2em;padding-left: 0.2em;position: relative;}#sk-container-id-1 div.sk-item {position: relative;z-index: 1;}#sk-container-id-1 div.sk-parallel {display: flex;align-items: stretch;justify-content: center;background-color: white;position: relative;}#sk-container-id-1 div.sk-item::before, #sk-container-id-1 div.sk-parallel-item::before {content: \"\";position: absolute;border-left: 1px solid gray;box-sizing: border-box;top: 0;bottom: 0;left: 50%;z-index: -1;}#sk-container-id-1 div.sk-parallel-item {display: flex;flex-direction: column;z-index: 1;position: relative;background-color: white;}#sk-container-id-1 div.sk-parallel-item:first-child::after {align-self: flex-end;width: 50%;}#sk-container-id-1 div.sk-parallel-item:last-child::after {align-self: flex-start;width: 50%;}#sk-container-id-1 div.sk-parallel-item:only-child::after {width: 0;}#sk-container-id-1 div.sk-dashed-wrapped {border: 1px dashed gray;margin: 0 0.4em 0.5em 0.4em;box-sizing: border-box;padding-bottom: 0.4em;background-color: white;}#sk-container-id-1 div.sk-label label {font-family: monospace;font-weight: bold;display: inline-block;line-height: 1.2em;}#sk-container-id-1 div.sk-label-container {text-align: center;}#sk-container-id-1 div.sk-container {/* jupyter's `normalize.less` sets `[hidden] { display: none; }` but bootstrap.min.css set `[hidden] { display: none !important; }` so we also need the `!important` here to be able to override the default hidden behavior on the sphinx rendered scikit-learn.org. See: https://github.com/scikit-learn/scikit-learn/issues/21755 */display: inline-block !important;position: relative;}#sk-container-id-1 div.sk-text-repr-fallback {display: none;}</style><div id=\"sk-container-id-1\" class=\"sk-top-container\"><div class=\"sk-text-repr-fallback\"><pre>MinMaxScaler()</pre><b>In a Jupyter environment, please rerun this cell to show the HTML representation or trust the notebook. <br />On GitHub, the HTML representation is unable to render, please try loading this page with nbviewer.org.</b></div><div class=\"sk-container\" hidden><div class=\"sk-item\"><div class=\"sk-estimator sk-toggleable\"><input class=\"sk-toggleable__control sk-hidden--visually\" id=\"sk-estimator-id-1\" type=\"checkbox\" checked><label for=\"sk-estimator-id-1\" class=\"sk-toggleable__label sk-toggleable__label-arrow\">MinMaxScaler</label><div class=\"sk-toggleable__content\"><pre>MinMaxScaler()</pre></div></div></div></div></div>"
            ]
          },
          "metadata": {},
          "execution_count": 24
        }
      ]
    },
    {
      "cell_type": "code",
      "source": [
        "X_train = mm.transform(X_train)\n",
        "X_test = mm.transform(X_test)"
      ],
      "metadata": {
        "id": "kb_YJ-w3p_7-"
      },
      "execution_count": 25,
      "outputs": []
    },
    {
      "cell_type": "markdown",
      "source": [
        "## Model"
      ],
      "metadata": {
        "id": "BKGxZacvpAUU"
      }
    },
    {
      "cell_type": "markdown",
      "source": [
        "1. Input Layer(10 neurons)\n",
        "2. Hidden Layer( 90 neurons, sigmoid)\n",
        "3. hidden Layer( 500 neurons, relu)\n",
        "4. Hidden Layer( 50 neuron, relu)\n",
        "5. Output Layer( 1 neuron, sigmoid)\n"
      ],
      "metadata": {
        "id": "Jv4C7-cCrR2n"
      }
    },
    {
      "cell_type": "code",
      "source": [
        "# 6.0\n",
        "model = tf.keras.Sequential()"
      ],
      "metadata": {
        "id": "3u7a51m5Ixfm"
      },
      "execution_count": 26,
      "outputs": []
    },
    {
      "cell_type": "code",
      "source": [
        "# 6.1\n",
        "model.add( tf.keras.layers.Input(shape = (10,) ))"
      ],
      "metadata": {
        "id": "71VW2avIJEsh"
      },
      "execution_count": 27,
      "outputs": []
    },
    {
      "cell_type": "code",
      "source": [
        "# 6.2 Start\n",
        "model.add(tf.keras.layers.Dense(50, activation = 'relu'))  # MAke it 5 and then 20 (not more or less)"
      ],
      "metadata": {
        "id": "fUDftH3BJ_-L"
      },
      "execution_count": 28,
      "outputs": []
    },
    {
      "cell_type": "code",
      "source": [
        "model.add(tf.keras.layers.Dense(100, activation = 'selu'))\n",
        "model.add(tf.keras.layers.Dense(1, activation = 'sigmoid'))"
      ],
      "metadata": {
        "id": "R6BYzkrgMmlz"
      },
      "execution_count": 29,
      "outputs": []
    },
    {
      "cell_type": "code",
      "source": [
        "model.summary()"
      ],
      "metadata": {
        "id": "Odud79raMwjm",
        "outputId": "f8fd8a9b-f549-40be-a8ed-2c753fd84391",
        "colab": {
          "base_uri": "https://localhost:8080/"
        }
      },
      "execution_count": 30,
      "outputs": [
        {
          "output_type": "stream",
          "name": "stdout",
          "text": [
            "Model: \"sequential\"\n",
            "_________________________________________________________________\n",
            " Layer (type)                Output Shape              Param #   \n",
            "=================================================================\n",
            " dense (Dense)               (None, 50)                550       \n",
            "                                                                 \n",
            " dense_1 (Dense)             (None, 100)               5100      \n",
            "                                                                 \n",
            " dense_2 (Dense)             (None, 1)                 101       \n",
            "                                                                 \n",
            "=================================================================\n",
            "Total params: 5,751\n",
            "Trainable params: 5,751\n",
            "Non-trainable params: 0\n",
            "_________________________________________________________________\n"
          ]
        }
      ]
    },
    {
      "cell_type": "code",
      "source": [
        "from tensorflow.keras.utils import plot_model"
      ],
      "metadata": {
        "id": "04oQYO0qNJPq"
      },
      "execution_count": 31,
      "outputs": []
    },
    {
      "cell_type": "code",
      "source": [
        "plot_model(model , show_shapes=True)"
      ],
      "metadata": {
        "id": "GpJIJEZ5NRXx",
        "outputId": "d95df7b9-ff5b-41a6-ab06-805c881c81be",
        "colab": {
          "base_uri": "https://localhost:8080/",
          "height": 422
        }
      },
      "execution_count": 33,
      "outputs": [
        {
          "output_type": "execute_result",
          "data": {
            "image/png": "[encoded data removed]",
            "text/plain": [
              "<IPython.core.display.Image object>"
            ]
          },
          "metadata": {},
          "execution_count": 33
        }
      ]
    },
    {
      "cell_type": "code",
      "source": [
        "# 6.2.1 Experiment with adding a dropout layer\n",
        "#       but then increase number of units in Dense layer from 20 to 40\n",
        "model.add(tf.keras.layers.Dropout(rate = 0.5 ))"
      ],
      "metadata": {
        "id": "NNAVQxIDwuVk"
      },
      "execution_count": null,
      "outputs": []
    },
    {
      "cell_type": "code",
      "source": [
        "model.add(tf.keras.layers.Dense(20, activation = 'relu'))\n",
        "model.add(tf.keras.layers.Dropout(rate = 0.5 ))"
      ],
      "metadata": {
        "id": "Dj5lOyfyyDaQ"
      },
      "execution_count": null,
      "outputs": []
    },
    {
      "cell_type": "code",
      "source": [
        "model.add(tf.keras.layers.Dense(10, activation = 'relu'))\n",
        "model.add(tf.keras.layers.Dropout(rate = 0.5 ))"
      ],
      "metadata": {
        "id": "8zHYh7XCy2cJ"
      },
      "execution_count": null,
      "outputs": []
    },
    {
      "cell_type": "code",
      "source": [
        "# 6.3 Experiment first with activation of sigmoid\n",
        "#     and then no activation function\n",
        "model.add(tf.keras.layers.Dense(1, activation = 'sigmoid'))    # Keep sigmoid; then remove sigmoid"
      ],
      "metadata": {
        "id": "glw8SP83KQBL"
      },
      "execution_count": null,
      "outputs": []
    },
    {
      "cell_type": "code",
      "source": [
        "# 6.4 Model summary:\n",
        "model.summary()"
      ],
      "metadata": {
        "id": "HcfvweBLKWiQ",
        "outputId": "e2d59d38-c5e8-46af-a189-805869f06835",
        "colab": {
          "base_uri": "https://localhost:8080/"
        }
      },
      "execution_count": null,
      "outputs": [
        {
          "output_type": "stream",
          "name": "stdout",
          "text": [
            "Model: \"sequential_4\"\n",
            "_________________________________________________________________\n",
            " Layer (type)                Output Shape              Param #   \n",
            "=================================================================\n",
            " dense_16 (Dense)            (None, 40)                440       \n",
            "                                                                 \n",
            " dropout_6 (Dropout)         (None, 40)                0         \n",
            "                                                                 \n",
            " dense_17 (Dense)            (None, 20)                820       \n",
            "                                                                 \n",
            " dropout_7 (Dropout)         (None, 20)                0         \n",
            "                                                                 \n",
            " dense_18 (Dense)            (None, 10)                210       \n",
            "                                                                 \n",
            " dropout_8 (Dropout)         (None, 10)                0         \n",
            "                                                                 \n",
            " dense_19 (Dense)            (None, 1)                 11        \n",
            "                                                                 \n",
            "=================================================================\n",
            "Total params: 1,481\n",
            "Trainable params: 1,481\n",
            "Non-trainable params: 0\n",
            "_________________________________________________________________\n"
          ]
        }
      ]
    },
    {
      "cell_type": "code",
      "source": [
        "# 6.5 Compile model\n",
        "#     Expt with adam\n",
        "model.compile(\n",
        "                 loss = 'binary_crossentropy',\n",
        "                 optimizer = 'adam',  # Try first with default optimizer and then with 'adam'\n",
        "                                      #  may not make much difference\n",
        "                 metrics = ['acc']\n",
        "              )"
      ],
      "metadata": {
        "id": "6LLk36OpKYIJ"
      },
      "execution_count": 34,
      "outputs": []
    },
    {
      "cell_type": "code",
      "source": [
        "model.fit(X_train, y_train, epochs=120)"
      ],
      "metadata": {
        "id": "oim5_8rUOTcF",
        "outputId": "5c9ef28a-bfe1-4b01-f217-00f9ddbec50a",
        "colab": {
          "base_uri": "https://localhost:8080/"
        }
      },
      "execution_count": 35,
      "outputs": [
        {
          "output_type": "stream",
          "name": "stdout",
          "text": [
            "Epoch 1/120\n",
            "235/235 [==============================] - 1s 1ms/step - loss: 0.4853 - acc: 0.7923\n",
            "Epoch 2/120\n",
            "235/235 [==============================] - 0s 1ms/step - loss: 0.4438 - acc: 0.8099\n",
            "Epoch 3/120\n",
            "235/235 [==============================] - 0s 1ms/step - loss: 0.4274 - acc: 0.8161\n",
            "Epoch 4/120\n",
            "235/235 [==============================] - 0s 1ms/step - loss: 0.4131 - acc: 0.8208\n",
            "Epoch 5/120\n",
            "235/235 [==============================] - 0s 1ms/step - loss: 0.4026 - acc: 0.8275\n",
            "Epoch 6/120\n",
            "235/235 [==============================] - 0s 1ms/step - loss: 0.3827 - acc: 0.8397\n",
            "Epoch 7/120\n",
            "235/235 [==============================] - 0s 1ms/step - loss: 0.3779 - acc: 0.8465\n",
            "Epoch 8/120\n",
            "235/235 [==============================] - 0s 1ms/step - loss: 0.3668 - acc: 0.8463\n",
            "Epoch 9/120\n",
            "235/235 [==============================] - 0s 1ms/step - loss: 0.3613 - acc: 0.8499\n",
            "Epoch 10/120\n",
            "235/235 [==============================] - 0s 1ms/step - loss: 0.3610 - acc: 0.8519\n",
            "Epoch 11/120\n",
            "235/235 [==============================] - 0s 1ms/step - loss: 0.3589 - acc: 0.8507\n",
            "Epoch 12/120\n",
            "235/235 [==============================] - 0s 1ms/step - loss: 0.3580 - acc: 0.8553\n",
            "Epoch 13/120\n",
            "235/235 [==============================] - 0s 1ms/step - loss: 0.3562 - acc: 0.8536\n",
            "Epoch 14/120\n",
            "235/235 [==============================] - 0s 1ms/step - loss: 0.3524 - acc: 0.8535\n",
            "Epoch 15/120\n",
            "235/235 [==============================] - 0s 1ms/step - loss: 0.3527 - acc: 0.8535\n",
            "Epoch 16/120\n",
            "235/235 [==============================] - 0s 1ms/step - loss: 0.3497 - acc: 0.8524\n",
            "Epoch 17/120\n",
            "235/235 [==============================] - 0s 1ms/step - loss: 0.3503 - acc: 0.8549\n",
            "Epoch 18/120\n",
            "235/235 [==============================] - 0s 1ms/step - loss: 0.3473 - acc: 0.8572\n",
            "Epoch 19/120\n",
            "235/235 [==============================] - 0s 1ms/step - loss: 0.3465 - acc: 0.8563\n",
            "Epoch 20/120\n",
            "235/235 [==============================] - 0s 1ms/step - loss: 0.3439 - acc: 0.8625\n",
            "Epoch 21/120\n",
            "235/235 [==============================] - 0s 1ms/step - loss: 0.3416 - acc: 0.8600\n",
            "Epoch 22/120\n",
            "235/235 [==============================] - 0s 2ms/step - loss: 0.3421 - acc: 0.8587\n",
            "Epoch 23/120\n",
            "235/235 [==============================] - 0s 2ms/step - loss: 0.3419 - acc: 0.8565\n",
            "Epoch 24/120\n",
            "235/235 [==============================] - 0s 2ms/step - loss: 0.3398 - acc: 0.8633\n",
            "Epoch 25/120\n",
            "235/235 [==============================] - 0s 1ms/step - loss: 0.3382 - acc: 0.8624\n",
            "Epoch 26/120\n",
            "235/235 [==============================] - 0s 1ms/step - loss: 0.3373 - acc: 0.8600\n",
            "Epoch 27/120\n",
            "235/235 [==============================] - 0s 2ms/step - loss: 0.3382 - acc: 0.8564\n",
            "Epoch 28/120\n",
            "235/235 [==============================] - 0s 2ms/step - loss: 0.3373 - acc: 0.8605\n",
            "Epoch 29/120\n",
            "235/235 [==============================] - 0s 1ms/step - loss: 0.3350 - acc: 0.8576\n",
            "Epoch 30/120\n",
            "235/235 [==============================] - 0s 1ms/step - loss: 0.3343 - acc: 0.8631\n",
            "Epoch 31/120\n",
            "235/235 [==============================] - 0s 1ms/step - loss: 0.3340 - acc: 0.8636\n",
            "Epoch 32/120\n",
            "235/235 [==============================] - 0s 1ms/step - loss: 0.3341 - acc: 0.8601\n",
            "Epoch 33/120\n",
            "235/235 [==============================] - 0s 1ms/step - loss: 0.3326 - acc: 0.8653\n",
            "Epoch 34/120\n",
            "235/235 [==============================] - 0s 1ms/step - loss: 0.3326 - acc: 0.8636\n",
            "Epoch 35/120\n",
            "235/235 [==============================] - 0s 1ms/step - loss: 0.3305 - acc: 0.8661\n",
            "Epoch 36/120\n",
            "235/235 [==============================] - 0s 1ms/step - loss: 0.3319 - acc: 0.8600\n",
            "Epoch 37/120\n",
            "235/235 [==============================] - 0s 1ms/step - loss: 0.3315 - acc: 0.8643\n",
            "Epoch 38/120\n",
            "235/235 [==============================] - 0s 1ms/step - loss: 0.3304 - acc: 0.8636\n",
            "Epoch 39/120\n",
            "235/235 [==============================] - 0s 1ms/step - loss: 0.3295 - acc: 0.8636\n",
            "Epoch 40/120\n",
            "235/235 [==============================] - 0s 1ms/step - loss: 0.3284 - acc: 0.8652\n",
            "Epoch 41/120\n",
            "235/235 [==============================] - 0s 1ms/step - loss: 0.3292 - acc: 0.8635\n",
            "Epoch 42/120\n",
            "235/235 [==============================] - 0s 1ms/step - loss: 0.3275 - acc: 0.8677\n",
            "Epoch 43/120\n",
            "235/235 [==============================] - 0s 1ms/step - loss: 0.3294 - acc: 0.8620\n",
            "Epoch 44/120\n",
            "235/235 [==============================] - 0s 1ms/step - loss: 0.3289 - acc: 0.8621\n",
            "Epoch 45/120\n",
            "235/235 [==============================] - 0s 1ms/step - loss: 0.3250 - acc: 0.8681\n",
            "Epoch 46/120\n",
            "235/235 [==============================] - 0s 1ms/step - loss: 0.3269 - acc: 0.8659\n",
            "Epoch 47/120\n",
            "235/235 [==============================] - 0s 1ms/step - loss: 0.3283 - acc: 0.8635\n",
            "Epoch 48/120\n",
            "235/235 [==============================] - 0s 1ms/step - loss: 0.3265 - acc: 0.8656\n",
            "Epoch 49/120\n",
            "235/235 [==============================] - 0s 1ms/step - loss: 0.3250 - acc: 0.8651\n",
            "Epoch 50/120\n",
            "235/235 [==============================] - 0s 1ms/step - loss: 0.3252 - acc: 0.8639\n",
            "Epoch 51/120\n",
            "235/235 [==============================] - 0s 1ms/step - loss: 0.3228 - acc: 0.8679\n",
            "Epoch 52/120\n",
            "235/235 [==============================] - 0s 1ms/step - loss: 0.3250 - acc: 0.8655\n",
            "Epoch 53/120\n",
            "235/235 [==============================] - 0s 1ms/step - loss: 0.3239 - acc: 0.8688\n",
            "Epoch 54/120\n",
            "235/235 [==============================] - 0s 1ms/step - loss: 0.3241 - acc: 0.8647\n",
            "Epoch 55/120\n",
            "235/235 [==============================] - 0s 1ms/step - loss: 0.3232 - acc: 0.8648\n",
            "Epoch 56/120\n",
            "235/235 [==============================] - 0s 1ms/step - loss: 0.3231 - acc: 0.8644\n",
            "Epoch 57/120\n",
            "235/235 [==============================] - 0s 1ms/step - loss: 0.3229 - acc: 0.8617\n",
            "Epoch 58/120\n",
            "235/235 [==============================] - 0s 1ms/step - loss: 0.3237 - acc: 0.8652\n",
            "Epoch 59/120\n",
            "235/235 [==============================] - 0s 1ms/step - loss: 0.3227 - acc: 0.8676\n",
            "Epoch 60/120\n",
            "235/235 [==============================] - 0s 1ms/step - loss: 0.3225 - acc: 0.8688\n",
            "Epoch 61/120\n",
            "235/235 [==============================] - 0s 1ms/step - loss: 0.3219 - acc: 0.8652\n",
            "Epoch 62/120\n",
            "235/235 [==============================] - 0s 1ms/step - loss: 0.3222 - acc: 0.8656\n",
            "Epoch 63/120\n",
            "235/235 [==============================] - 0s 1ms/step - loss: 0.3215 - acc: 0.8653\n",
            "Epoch 64/120\n",
            "235/235 [==============================] - 0s 1ms/step - loss: 0.3213 - acc: 0.8671\n",
            "Epoch 65/120\n",
            "235/235 [==============================] - 0s 1ms/step - loss: 0.3225 - acc: 0.8651\n",
            "Epoch 66/120\n",
            "235/235 [==============================] - 0s 1ms/step - loss: 0.3222 - acc: 0.8655\n",
            "Epoch 67/120\n",
            "235/235 [==============================] - 0s 1ms/step - loss: 0.3215 - acc: 0.8664\n",
            "Epoch 68/120\n",
            "235/235 [==============================] - 0s 1ms/step - loss: 0.3213 - acc: 0.8649\n",
            "Epoch 69/120\n",
            "235/235 [==============================] - 0s 1ms/step - loss: 0.3192 - acc: 0.8705\n",
            "Epoch 70/120\n",
            "235/235 [==============================] - 0s 1ms/step - loss: 0.3219 - acc: 0.8653\n",
            "Epoch 71/120\n",
            "235/235 [==============================] - 0s 2ms/step - loss: 0.3182 - acc: 0.8663\n",
            "Epoch 72/120\n",
            "235/235 [==============================] - 0s 1ms/step - loss: 0.3181 - acc: 0.8673\n",
            "Epoch 73/120\n",
            "235/235 [==============================] - 0s 1ms/step - loss: 0.3188 - acc: 0.8664\n",
            "Epoch 74/120\n",
            "235/235 [==============================] - 0s 1ms/step - loss: 0.3169 - acc: 0.8685\n",
            "Epoch 75/120\n",
            "235/235 [==============================] - 0s 1ms/step - loss: 0.3177 - acc: 0.8672\n",
            "Epoch 76/120\n",
            "235/235 [==============================] - 0s 1ms/step - loss: 0.3195 - acc: 0.8659\n",
            "Epoch 77/120\n",
            "235/235 [==============================] - 0s 1ms/step - loss: 0.3208 - acc: 0.8672\n",
            "Epoch 78/120\n",
            "235/235 [==============================] - 0s 1ms/step - loss: 0.3187 - acc: 0.8665\n",
            "Epoch 79/120\n",
            "235/235 [==============================] - 0s 1ms/step - loss: 0.3168 - acc: 0.8656\n",
            "Epoch 80/120\n",
            "235/235 [==============================] - 0s 1ms/step - loss: 0.3188 - acc: 0.8668\n",
            "Epoch 81/120\n",
            "235/235 [==============================] - 0s 1ms/step - loss: 0.3193 - acc: 0.8665\n",
            "Epoch 82/120\n",
            "235/235 [==============================] - 0s 1ms/step - loss: 0.3172 - acc: 0.8696\n",
            "Epoch 83/120\n",
            "235/235 [==============================] - 0s 1ms/step - loss: 0.3189 - acc: 0.8691\n",
            "Epoch 84/120\n",
            "235/235 [==============================] - 0s 1ms/step - loss: 0.3176 - acc: 0.8685\n",
            "Epoch 85/120\n",
            "235/235 [==============================] - 0s 1ms/step - loss: 0.3163 - acc: 0.8713\n",
            "Epoch 86/120\n",
            "235/235 [==============================] - 0s 1ms/step - loss: 0.3161 - acc: 0.8697\n",
            "Epoch 87/120\n",
            "235/235 [==============================] - 0s 1ms/step - loss: 0.3164 - acc: 0.8672\n",
            "Epoch 88/120\n",
            "235/235 [==============================] - 0s 1ms/step - loss: 0.3140 - acc: 0.8712\n",
            "Epoch 89/120\n",
            "235/235 [==============================] - 0s 1ms/step - loss: 0.3141 - acc: 0.8676\n",
            "Epoch 90/120\n",
            "235/235 [==============================] - 0s 1ms/step - loss: 0.3139 - acc: 0.8660\n",
            "Epoch 91/120\n",
            "235/235 [==============================] - 0s 1ms/step - loss: 0.3151 - acc: 0.8689\n",
            "Epoch 92/120\n",
            "235/235 [==============================] - 0s 1ms/step - loss: 0.3154 - acc: 0.8665\n",
            "Epoch 93/120\n",
            "235/235 [==============================] - 0s 1ms/step - loss: 0.3149 - acc: 0.8692\n",
            "Epoch 94/120\n",
            "235/235 [==============================] - 0s 1ms/step - loss: 0.3164 - acc: 0.8709\n",
            "Epoch 95/120\n",
            "235/235 [==============================] - 0s 1ms/step - loss: 0.3153 - acc: 0.8699\n",
            "Epoch 96/120\n",
            "235/235 [==============================] - 0s 1ms/step - loss: 0.3142 - acc: 0.8699\n",
            "Epoch 97/120\n",
            "235/235 [==============================] - 0s 1ms/step - loss: 0.3135 - acc: 0.8688\n",
            "Epoch 98/120\n",
            "235/235 [==============================] - 0s 1ms/step - loss: 0.3151 - acc: 0.8701\n",
            "Epoch 99/120\n",
            "235/235 [==============================] - 0s 1ms/step - loss: 0.3138 - acc: 0.8691\n",
            "Epoch 100/120\n",
            "235/235 [==============================] - 0s 1ms/step - loss: 0.3144 - acc: 0.8728\n",
            "Epoch 101/120\n",
            "235/235 [==============================] - 0s 1ms/step - loss: 0.3144 - acc: 0.8689\n",
            "Epoch 102/120\n",
            "235/235 [==============================] - 0s 1ms/step - loss: 0.3180 - acc: 0.8673\n",
            "Epoch 103/120\n",
            "235/235 [==============================] - 0s 1ms/step - loss: 0.3134 - acc: 0.8687\n",
            "Epoch 104/120\n",
            "235/235 [==============================] - 0s 1ms/step - loss: 0.3142 - acc: 0.8716\n",
            "Epoch 105/120\n",
            "235/235 [==============================] - 0s 1ms/step - loss: 0.3127 - acc: 0.8728\n",
            "Epoch 106/120\n",
            "235/235 [==============================] - 0s 1ms/step - loss: 0.3139 - acc: 0.8707\n",
            "Epoch 107/120\n",
            "235/235 [==============================] - 0s 1ms/step - loss: 0.3133 - acc: 0.8692\n",
            "Epoch 108/120\n",
            "235/235 [==============================] - 0s 1ms/step - loss: 0.3120 - acc: 0.8700\n",
            "Epoch 109/120\n",
            "235/235 [==============================] - 0s 1ms/step - loss: 0.3134 - acc: 0.8689\n",
            "Epoch 110/120\n",
            "235/235 [==============================] - 0s 1ms/step - loss: 0.3125 - acc: 0.8699\n",
            "Epoch 111/120\n",
            "235/235 [==============================] - 0s 1ms/step - loss: 0.3137 - acc: 0.8707\n",
            "Epoch 112/120\n",
            "235/235 [==============================] - 0s 2ms/step - loss: 0.3141 - acc: 0.8691\n",
            "Epoch 113/120\n",
            "235/235 [==============================] - 0s 1ms/step - loss: 0.3119 - acc: 0.8704\n",
            "Epoch 114/120\n",
            "235/235 [==============================] - 0s 1ms/step - loss: 0.3120 - acc: 0.8713\n",
            "Epoch 115/120\n",
            "235/235 [==============================] - 0s 2ms/step - loss: 0.3118 - acc: 0.8676\n",
            "Epoch 116/120\n",
            "235/235 [==============================] - 0s 2ms/step - loss: 0.3113 - acc: 0.8688\n",
            "Epoch 117/120\n",
            "235/235 [==============================] - 0s 2ms/step - loss: 0.3130 - acc: 0.8688\n",
            "Epoch 118/120\n",
            "235/235 [==============================] - 0s 2ms/step - loss: 0.3146 - acc: 0.8712\n",
            "Epoch 119/120\n",
            "235/235 [==============================] - 0s 1ms/step - loss: 0.3103 - acc: 0.8701\n",
            "Epoch 120/120\n",
            "235/235 [==============================] - 0s 1ms/step - loss: 0.3106 - acc: 0.8709\n"
          ]
        },
        {
          "output_type": "execute_result",
          "data": {
            "text/plain": [
              "<keras.callbacks.History at 0x7b8de5d21540>"
            ]
          },
          "metadata": {},
          "execution_count": 35
        }
      ]
    },
    {
      "cell_type": "code",
      "source": [
        "# 7.0\n",
        "#\n",
        "history1 = model.fit(X_train,y_train,\n",
        "                    epochs = 70,\n",
        "                    validation_data = (X_test, y_test)\n",
        "                   )"
      ],
      "metadata": {
        "id": "SxH9wqFAKj6R",
        "outputId": "6020599a-be3a-410a-d090-510d6b17203c",
        "colab": {
          "base_uri": "https://localhost:8080/"
        }
      },
      "execution_count": null,
      "outputs": [
        {
          "output_type": "stream",
          "name": "stdout",
          "text": [
            "Epoch 1/70\n",
            "235/235 [==============================] - 2s 4ms/step - loss: 0.5993 - acc: 0.7453 - val_loss: 0.5042 - val_acc: 0.8100\n",
            "Epoch 2/70\n",
            "235/235 [==============================] - 1s 2ms/step - loss: 0.5348 - acc: 0.7900 - val_loss: 0.4757 - val_acc: 0.8100\n",
            "Epoch 3/70\n",
            "235/235 [==============================] - 1s 3ms/step - loss: 0.5243 - acc: 0.7917 - val_loss: 0.4680 - val_acc: 0.8100\n",
            "Epoch 4/70\n",
            "235/235 [==============================] - 1s 3ms/step - loss: 0.5061 - acc: 0.7917 - val_loss: 0.4606 - val_acc: 0.8100\n",
            "Epoch 5/70\n",
            "235/235 [==============================] - 1s 3ms/step - loss: 0.5040 - acc: 0.7917 - val_loss: 0.4518 - val_acc: 0.8100\n",
            "Epoch 6/70\n",
            "235/235 [==============================] - 1s 2ms/step - loss: 0.4979 - acc: 0.7917 - val_loss: 0.4445 - val_acc: 0.8100\n",
            "Epoch 7/70\n",
            "235/235 [==============================] - 1s 3ms/step - loss: 0.4964 - acc: 0.7917 - val_loss: 0.4467 - val_acc: 0.8100\n",
            "Epoch 8/70\n",
            "235/235 [==============================] - 1s 3ms/step - loss: 0.4913 - acc: 0.7915 - val_loss: 0.4372 - val_acc: 0.8100\n",
            "Epoch 9/70\n",
            "235/235 [==============================] - 1s 3ms/step - loss: 0.4812 - acc: 0.7940 - val_loss: 0.4290 - val_acc: 0.8100\n",
            "Epoch 10/70\n",
            "235/235 [==============================] - 1s 3ms/step - loss: 0.4823 - acc: 0.7935 - val_loss: 0.4239 - val_acc: 0.8100\n",
            "Epoch 11/70\n",
            "235/235 [==============================] - 1s 2ms/step - loss: 0.4725 - acc: 0.7944 - val_loss: 0.4158 - val_acc: 0.8100\n",
            "Epoch 12/70\n",
            "235/235 [==============================] - 1s 2ms/step - loss: 0.4675 - acc: 0.7937 - val_loss: 0.4104 - val_acc: 0.8100\n",
            "Epoch 13/70\n",
            "235/235 [==============================] - 1s 2ms/step - loss: 0.4683 - acc: 0.7936 - val_loss: 0.4068 - val_acc: 0.8100\n",
            "Epoch 14/70\n",
            "235/235 [==============================] - 1s 2ms/step - loss: 0.4630 - acc: 0.7987 - val_loss: 0.4026 - val_acc: 0.8120\n",
            "Epoch 15/70\n",
            "235/235 [==============================] - 1s 3ms/step - loss: 0.4518 - acc: 0.8040 - val_loss: 0.3988 - val_acc: 0.8200\n",
            "Epoch 16/70\n",
            "235/235 [==============================] - 1s 3ms/step - loss: 0.4529 - acc: 0.7992 - val_loss: 0.3946 - val_acc: 0.8116\n",
            "Epoch 17/70\n",
            "235/235 [==============================] - 1s 3ms/step - loss: 0.4489 - acc: 0.8012 - val_loss: 0.3909 - val_acc: 0.8252\n",
            "Epoch 18/70\n",
            "235/235 [==============================] - 1s 3ms/step - loss: 0.4439 - acc: 0.8065 - val_loss: 0.3837 - val_acc: 0.8304\n",
            "Epoch 19/70\n",
            "235/235 [==============================] - 1s 2ms/step - loss: 0.4426 - acc: 0.8085 - val_loss: 0.3866 - val_acc: 0.8424\n",
            "Epoch 20/70\n",
            "235/235 [==============================] - 1s 2ms/step - loss: 0.4405 - acc: 0.8117 - val_loss: 0.3748 - val_acc: 0.8500\n",
            "Epoch 21/70\n",
            "235/235 [==============================] - 1s 3ms/step - loss: 0.4279 - acc: 0.8093 - val_loss: 0.3684 - val_acc: 0.8600\n",
            "Epoch 22/70\n",
            "235/235 [==============================] - 1s 3ms/step - loss: 0.4400 - acc: 0.8169 - val_loss: 0.3664 - val_acc: 0.8620\n",
            "Epoch 23/70\n",
            "235/235 [==============================] - 1s 3ms/step - loss: 0.4211 - acc: 0.8167 - val_loss: 0.3609 - val_acc: 0.8644\n",
            "Epoch 24/70\n",
            "235/235 [==============================] - 1s 3ms/step - loss: 0.4220 - acc: 0.8217 - val_loss: 0.3572 - val_acc: 0.8604\n",
            "Epoch 25/70\n",
            "235/235 [==============================] - 1s 2ms/step - loss: 0.4236 - acc: 0.8163 - val_loss: 0.3564 - val_acc: 0.8540\n",
            "Epoch 26/70\n",
            "235/235 [==============================] - 1s 2ms/step - loss: 0.4190 - acc: 0.8207 - val_loss: 0.3653 - val_acc: 0.8624\n",
            "Epoch 27/70\n",
            "235/235 [==============================] - 1s 2ms/step - loss: 0.4138 - acc: 0.8261 - val_loss: 0.3534 - val_acc: 0.8640\n",
            "Epoch 28/70\n",
            "235/235 [==============================] - 1s 3ms/step - loss: 0.4166 - acc: 0.8263 - val_loss: 0.3483 - val_acc: 0.8660\n",
            "Epoch 29/70\n",
            "235/235 [==============================] - 1s 3ms/step - loss: 0.4133 - acc: 0.8227 - val_loss: 0.3495 - val_acc: 0.8668\n",
            "Epoch 30/70\n",
            "235/235 [==============================] - 1s 2ms/step - loss: 0.4127 - acc: 0.8233 - val_loss: 0.3488 - val_acc: 0.8660\n",
            "Epoch 31/70\n",
            "235/235 [==============================] - 1s 3ms/step - loss: 0.4061 - acc: 0.8257 - val_loss: 0.3438 - val_acc: 0.8688\n",
            "Epoch 32/70\n",
            "235/235 [==============================] - 1s 2ms/step - loss: 0.4103 - acc: 0.8304 - val_loss: 0.3465 - val_acc: 0.8576\n",
            "Epoch 33/70\n",
            "235/235 [==============================] - 1s 2ms/step - loss: 0.4094 - acc: 0.8259 - val_loss: 0.3418 - val_acc: 0.8696\n",
            "Epoch 34/70\n",
            "235/235 [==============================] - 1s 2ms/step - loss: 0.4039 - acc: 0.8279 - val_loss: 0.3421 - val_acc: 0.8692\n",
            "Epoch 35/70\n",
            "235/235 [==============================] - 1s 3ms/step - loss: 0.4072 - acc: 0.8292 - val_loss: 0.3473 - val_acc: 0.8648\n",
            "Epoch 36/70\n",
            "235/235 [==============================] - 1s 3ms/step - loss: 0.4043 - acc: 0.8277 - val_loss: 0.3417 - val_acc: 0.8664\n",
            "Epoch 37/70\n",
            "235/235 [==============================] - 1s 2ms/step - loss: 0.4037 - acc: 0.8280 - val_loss: 0.3392 - val_acc: 0.8680\n",
            "Epoch 38/70\n",
            "235/235 [==============================] - 1s 2ms/step - loss: 0.4115 - acc: 0.8256 - val_loss: 0.3476 - val_acc: 0.8656\n",
            "Epoch 39/70\n",
            "235/235 [==============================] - 1s 2ms/step - loss: 0.3984 - acc: 0.8303 - val_loss: 0.3417 - val_acc: 0.8636\n",
            "Epoch 40/70\n",
            "235/235 [==============================] - 1s 3ms/step - loss: 0.3975 - acc: 0.8309 - val_loss: 0.3426 - val_acc: 0.8668\n",
            "Epoch 41/70\n",
            "235/235 [==============================] - 1s 3ms/step - loss: 0.4035 - acc: 0.8243 - val_loss: 0.3392 - val_acc: 0.8660\n",
            "Epoch 42/70\n",
            "235/235 [==============================] - 1s 3ms/step - loss: 0.4088 - acc: 0.8287 - val_loss: 0.3409 - val_acc: 0.8676\n",
            "Epoch 43/70\n",
            "235/235 [==============================] - 1s 3ms/step - loss: 0.4001 - acc: 0.8303 - val_loss: 0.3437 - val_acc: 0.8656\n",
            "Epoch 44/70\n",
            "235/235 [==============================] - 1s 2ms/step - loss: 0.4071 - acc: 0.8287 - val_loss: 0.3388 - val_acc: 0.8664\n",
            "Epoch 45/70\n",
            "235/235 [==============================] - 1s 3ms/step - loss: 0.4018 - acc: 0.8296 - val_loss: 0.3381 - val_acc: 0.8668\n",
            "Epoch 46/70\n",
            "235/235 [==============================] - 1s 3ms/step - loss: 0.4022 - acc: 0.8303 - val_loss: 0.3370 - val_acc: 0.8680\n",
            "Epoch 47/70\n",
            "235/235 [==============================] - 1s 3ms/step - loss: 0.4028 - acc: 0.8285 - val_loss: 0.3374 - val_acc: 0.8664\n",
            "Epoch 48/70\n",
            "235/235 [==============================] - 1s 2ms/step - loss: 0.4013 - acc: 0.8328 - val_loss: 0.3374 - val_acc: 0.8692\n",
            "Epoch 49/70\n",
            "235/235 [==============================] - 1s 3ms/step - loss: 0.4015 - acc: 0.8287 - val_loss: 0.3386 - val_acc: 0.8692\n",
            "Epoch 50/70\n",
            "235/235 [==============================] - 1s 3ms/step - loss: 0.3979 - acc: 0.8299 - val_loss: 0.3396 - val_acc: 0.8684\n",
            "Epoch 51/70\n",
            "235/235 [==============================] - 1s 3ms/step - loss: 0.3974 - acc: 0.8329 - val_loss: 0.3399 - val_acc: 0.8688\n",
            "Epoch 52/70\n",
            "235/235 [==============================] - 1s 3ms/step - loss: 0.3946 - acc: 0.8329 - val_loss: 0.3351 - val_acc: 0.8676\n",
            "Epoch 53/70\n",
            "235/235 [==============================] - 1s 2ms/step - loss: 0.4043 - acc: 0.8289 - val_loss: 0.3350 - val_acc: 0.8704\n",
            "Epoch 54/70\n",
            "235/235 [==============================] - 1s 3ms/step - loss: 0.4039 - acc: 0.8304 - val_loss: 0.3395 - val_acc: 0.8660\n",
            "Epoch 55/70\n",
            "235/235 [==============================] - 1s 3ms/step - loss: 0.3966 - acc: 0.8299 - val_loss: 0.3326 - val_acc: 0.8688\n",
            "Epoch 56/70\n",
            "235/235 [==============================] - 1s 2ms/step - loss: 0.3934 - acc: 0.8319 - val_loss: 0.3356 - val_acc: 0.8664\n",
            "Epoch 57/70\n",
            "235/235 [==============================] - 1s 3ms/step - loss: 0.3866 - acc: 0.8352 - val_loss: 0.3325 - val_acc: 0.8688\n",
            "Epoch 58/70\n",
            "235/235 [==============================] - 1s 2ms/step - loss: 0.4009 - acc: 0.8308 - val_loss: 0.3383 - val_acc: 0.8664\n",
            "Epoch 59/70\n",
            "235/235 [==============================] - 1s 3ms/step - loss: 0.3998 - acc: 0.8311 - val_loss: 0.3408 - val_acc: 0.8660\n",
            "Epoch 60/70\n",
            "235/235 [==============================] - 1s 2ms/step - loss: 0.4008 - acc: 0.8267 - val_loss: 0.3418 - val_acc: 0.8648\n",
            "Epoch 61/70\n",
            "235/235 [==============================] - 1s 3ms/step - loss: 0.3955 - acc: 0.8248 - val_loss: 0.3352 - val_acc: 0.8656\n",
            "Epoch 62/70\n",
            "235/235 [==============================] - 1s 3ms/step - loss: 0.3974 - acc: 0.8316 - val_loss: 0.3371 - val_acc: 0.8696\n",
            "Epoch 63/70\n",
            "235/235 [==============================] - 1s 3ms/step - loss: 0.3984 - acc: 0.8313 - val_loss: 0.3365 - val_acc: 0.8672\n",
            "Epoch 64/70\n",
            "235/235 [==============================] - 1s 3ms/step - loss: 0.3980 - acc: 0.8300 - val_loss: 0.3345 - val_acc: 0.8684\n",
            "Epoch 65/70\n",
            "235/235 [==============================] - 1s 3ms/step - loss: 0.3985 - acc: 0.8327 - val_loss: 0.3357 - val_acc: 0.8652\n",
            "Epoch 66/70\n",
            "235/235 [==============================] - 1s 3ms/step - loss: 0.3958 - acc: 0.8348 - val_loss: 0.3362 - val_acc: 0.8672\n",
            "Epoch 67/70\n",
            "235/235 [==============================] - 1s 2ms/step - loss: 0.3937 - acc: 0.8321 - val_loss: 0.3329 - val_acc: 0.8648\n",
            "Epoch 68/70\n",
            "235/235 [==============================] - 1s 2ms/step - loss: 0.3933 - acc: 0.8324 - val_loss: 0.3348 - val_acc: 0.8684\n",
            "Epoch 69/70\n",
            "235/235 [==============================] - 1s 3ms/step - loss: 0.3917 - acc: 0.8329 - val_loss: 0.3345 - val_acc: 0.8656\n",
            "Epoch 70/70\n",
            "235/235 [==============================] - 1s 3ms/step - loss: 0.3923 - acc: 0.8289 - val_loss: 0.3359 - val_acc: 0.8700\n"
          ]
        }
      ]
    },
    {
      "cell_type": "code",
      "source": [
        "# 7.1\n",
        "model.evaluate(X_test,y_test)"
      ],
      "metadata": {
        "id": "E8CUmuEXKsgT",
        "outputId": "3f8d880a-e4d7-43a2-c241-fb7e0532825f",
        "colab": {
          "base_uri": "https://localhost:8080/"
        }
      },
      "execution_count": null,
      "outputs": [
        {
          "output_type": "stream",
          "name": "stdout",
          "text": [
            "79/79 [==============================] - 0s 2ms/step - loss: 0.3359 - acc: 0.8700\n"
          ]
        },
        {
          "output_type": "execute_result",
          "data": {
            "text/plain": [
              "[0.3358922302722931, 0.8700000047683716]"
            ]
          },
          "metadata": {},
          "execution_count": 90
        }
      ]
    },
    {
      "cell_type": "code",
      "source": [
        "type(history.history)"
      ],
      "metadata": {
        "id": "HVfYqFnhtU5G"
      },
      "execution_count": null,
      "outputs": []
    },
    {
      "cell_type": "code",
      "source": [
        "history.history.keys()"
      ],
      "metadata": {
        "colab": {
          "base_uri": "https://localhost:8080/"
        },
        "id": "pnlVFrNftfMd",
        "outputId": "86f53777-d1f7-4f9b-da4c-16282df744c1"
      },
      "execution_count": null,
      "outputs": [
        {
          "output_type": "execute_result",
          "data": {
            "text/plain": [
              "dict_keys(['loss', 'acc', 'val_loss', 'val_acc'])"
            ]
          },
          "metadata": {},
          "execution_count": 85
        }
      ]
    },
    {
      "cell_type": "code",
      "source": [
        "# Plot without dropouts\n",
        "loss = history.history['loss']\n",
        "val_loss = history.history['val_loss']\n",
        "plt.plot(loss)\n",
        "plt.plot(val_loss)"
      ],
      "metadata": {
        "colab": {
          "base_uri": "https://localhost:8080/",
          "height": 283
        },
        "id": "J-tjG6G-s44n",
        "outputId": "b6d29c2c-96c3-47af-91b0-33c7bfa5e062"
      },
      "execution_count": null,
      "outputs": [
        {
          "output_type": "execute_result",
          "data": {
            "text/plain": [
              "[<matplotlib.lines.Line2D at 0x7f8ac24e59d0>]"
            ]
          },
          "metadata": {},
          "execution_count": 86
        },
        {
          "output_type": "execute_result",
          "data": {
            "text/plain": [
              "[<matplotlib.lines.Line2D at 0x7f8ac250f5d0>]"
            ]
          },
          "metadata": {},
          "execution_count": 86
        },
        {
          "output_type": "display_data",
          "data": {
            "text/plain": [
              "<Figure size 432x288 with 1 Axes>"
            ],
            "image/png": "[encoded data removed]"
          },
          "metadata": {
            "needs_background": "light"
          }
        }
      ]
    },
    {
      "cell_type": "code",
      "source": [
        "# plot with dropouts\n",
        "loss = history1.history['loss']\n",
        "val_loss = history1.history['val_loss']\n",
        "plt.plot(loss, label = \"train_loss\")\n",
        "plt.plot(val_loss, label = \"val loss\")\n",
        "plt.legend()"
      ],
      "metadata": {
        "colab": {
          "base_uri": "https://localhost:8080/",
          "height": 283
        },
        "id": "tNBE_vPZt00F",
        "outputId": "1df693c2-3f22-4cd0-8e52-7ec390e198db"
      },
      "execution_count": null,
      "outputs": [
        {
          "output_type": "execute_result",
          "data": {
            "text/plain": [
              "[<matplotlib.lines.Line2D at 0x7f8abdd1f510>]"
            ]
          },
          "metadata": {},
          "execution_count": 89
        },
        {
          "output_type": "execute_result",
          "data": {
            "text/plain": [
              "[<matplotlib.lines.Line2D at 0x7f8abdd1f990>]"
            ]
          },
          "metadata": {},
          "execution_count": 89
        },
        {
          "output_type": "execute_result",
          "data": {
            "text/plain": [
              "<matplotlib.legend.Legend at 0x7f8abdd1f910>"
            ]
          },
          "metadata": {},
          "execution_count": 89
        },
        {
          "output_type": "display_data",
          "data": {
            "text/plain": [
              "<Figure size 432x288 with 1 Axes>"
            ],
            "image/png": "[encoded data removed]"
          },
          "metadata": {
            "needs_background": "light"
          }
        }
      ]
    },
    {
      "cell_type": "code",
      "source": [
        "######################### I am done #################"
      ],
      "metadata": {
        "id": "bzQX6UdZK-E-"
      },
      "execution_count": null,
      "outputs": []
    }
  ]
}